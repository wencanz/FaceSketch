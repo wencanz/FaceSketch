{
 "cells": [
  {
   "cell_type": "code",
   "execution_count": 7,
   "id": "54028a34-8c72-4619-b2ba-cbb8ae601724",
   "metadata": {
    "tags": []
   },
   "outputs": [
    {
     "ename": "ModuleNotFoundError",
     "evalue": "No module named 'cv2'",
     "output_type": "error",
     "traceback": [
      "\u001b[0;31m---------------------------------------------------------------------------\u001b[0m",
      "\u001b[0;31mModuleNotFoundError\u001b[0m                       Traceback (most recent call last)",
      "Cell \u001b[0;32mIn[7], line 2\u001b[0m\n\u001b[1;32m      1\u001b[0m \u001b[38;5;28;01mimport\u001b[39;00m \u001b[38;5;21;01mos\u001b[39;00m\n\u001b[0;32m----> 2\u001b[0m \u001b[38;5;28;01mimport\u001b[39;00m \u001b[38;5;21;01mcv2\u001b[39;00m\n\u001b[1;32m      3\u001b[0m \u001b[38;5;28;01mimport\u001b[39;00m \u001b[38;5;21;01mrandom\u001b[39;00m\n\u001b[1;32m      4\u001b[0m \u001b[38;5;28;01mimport\u001b[39;00m \u001b[38;5;21;01mnumpy\u001b[39;00m \u001b[38;5;28;01mas\u001b[39;00m \u001b[38;5;21;01mnp\u001b[39;00m\n",
      "\u001b[0;31mModuleNotFoundError\u001b[0m: No module named 'cv2'"
     ]
    }
   ],
   "source": [
    "import os\n",
    "import cv2\n",
    "import random\n",
    "import numpy as np\n",
    "import pandas as pd\n",
    "from matplotlib import pyplot as plt\n",
    "plt.rcParams[\"figure.figsize\"] = [14.00, 10.00]\n",
    "# plt.rcParams[\"figure.autolayout\"] = True"
   ]
  },
  {
   "cell_type": "code",
   "execution_count": 3,
   "id": "1bf9c614-dcdb-4286-b47d-d0fbb84f20f5",
   "metadata": {
    "tags": []
   },
   "outputs": [],
   "source": [
    "def find_valid_files(root_path):\n",
    "    filenames = []\n",
    "    for root, dirs, files in os.walk(root_path):\n",
    "        for file in files:\n",
    "            filename = os.path.join(root, file)\n",
    "            if '.ipynb' not in filename:\n",
    "                filenames.append(os.path.basename(filename))\n",
    "    return filenames"
   ]
  },
  {
   "cell_type": "code",
   "execution_count": 4,
   "id": "f43066e3-7ae4-4a15-8ce3-9696fda3ce75",
   "metadata": {
    "tags": []
   },
   "outputs": [],
   "source": [
    "condtions = ['original_images', 'gradcam_emotions', 'landmarks_strokes', 'textures', 'final_textures', 'final_textures_with_outlines']\n",
    "emotion_lut = {'T1':'Happy', 'T2':'Sad', 'T3':'Surprise', 'T4':'Embarrased', 'T5':'Fear', 'T6':'Painful', 'T7':'Angry', 'T8':'Disgust',}\n",
    "\n",
    "prefix = './'\n",
    "images_list = find_valid_files(prefix + condtions[0])\n",
    "images_list.sort()\n",
    "# random.shuffle(images_list)\n",
    "# print(images_list[0])\n",
    "\n",
    "df = pd.DataFrame(images_list, columns=['file'])\n",
    "df.to_csv('face_list.csv', index=False)"
   ]
  },
  {
   "cell_type": "code",
   "execution_count": 5,
   "id": "b93ee0bf-92b3-4679-a2be-e5f895361032",
   "metadata": {
    "tags": []
   },
   "outputs": [
    {
     "ename": "NameError",
     "evalue": "name 'cv2' is not defined",
     "output_type": "error",
     "traceback": [
      "\u001b[0;31m---------------------------------------------------------------------------\u001b[0m",
      "\u001b[0;31mNameError\u001b[0m                                 Traceback (most recent call last)",
      "Cell \u001b[0;32mIn[5], line 16\u001b[0m\n\u001b[1;32m     14\u001b[0m \u001b[38;5;28;01mfor\u001b[39;00m i \u001b[38;5;129;01min\u001b[39;00m \u001b[38;5;28mrange\u001b[39m(n_rows):\n\u001b[1;32m     15\u001b[0m     plt\u001b[38;5;241m.\u001b[39msubplot(n_rows, n_cols, i\u001b[38;5;241m*\u001b[39m(n_cols)\u001b[38;5;241m+\u001b[39mj\u001b[38;5;241m+\u001b[39m\u001b[38;5;241m1\u001b[39m)\n\u001b[0;32m---> 16\u001b[0m     data \u001b[38;5;241m=\u001b[39m cv2\u001b[38;5;241m.\u001b[39mimread(os\u001b[38;5;241m.\u001b[39mpath\u001b[38;5;241m.\u001b[39mjoin(prefix, condtions[j], images_list[i]), cv2\u001b[38;5;241m.\u001b[39mIMREAD_UNCHANGED)\n\u001b[1;32m     17\u001b[0m     data \u001b[38;5;241m=\u001b[39m cv2\u001b[38;5;241m.\u001b[39mcvtColor(data, cv2\u001b[38;5;241m.\u001b[39mCOLOR_BGR2RGBA)\n\u001b[1;32m     18\u001b[0m     \u001b[38;5;66;03m# print(data.shape)\u001b[39;00m\n",
      "\u001b[0;31mNameError\u001b[0m: name 'cv2' is not defined"
     ]
    },
    {
     "data": {
      "image/png": "[encoded data removed]",
      "text/plain": [
       "<Figure size 1400x1000 with 1 Axes>"
      ]
     },
     "metadata": {},
     "output_type": "display_data"
    }
   ],
   "source": [
    "# number of images to sample\n",
    "n_rows = 5 \n",
    "# number of vis. conditions\n",
    "n_cols = len(condtions) \n",
    "# where to start in sampling\n",
    "start = 0 \n",
    "\n",
    "for j in range(n_cols):\n",
    "    # Add column title\n",
    "    plt.subplot(n_rows, n_cols, j + 1)\n",
    "    plt.title(condtions[j])\n",
    "    plt.axis('off')\n",
    "    # Plot images for each row in the current column\n",
    "    for i in range(n_rows):\n",
    "        plt.subplot(n_rows, n_cols, i*(n_cols)+j+1)\n",
    "        data = cv2.imread(os.path.join(prefix, condtions[j], images_list[i]), cv2.IMREAD_UNCHANGED)\n",
    "        data = cv2.cvtColor(data, cv2.COLOR_BGR2RGBA)\n",
    "        # print(data.shape)\n",
    "        plt.imshow(data)\n",
    "        plt.axis('off')\n",
    "\n",
    "# Add row titles\n",
    "for i in range(n_rows):    \n",
    "    plt.subplot(n_rows, n_cols, i * n_cols+1)    \n",
    "    actor = images_list[i].split('_')[0]\n",
    "    emotion = emotion_lut[images_list[i].split('_')[1]]\n",
    "    title = actor + '-' + emotion\n",
    "    print(actor, emotion)\n",
    "    plt.title(title, loc='center')\n",
    "    \n",
    "plt.show()"
   ]
  },
  {
   "cell_type": "code",
   "execution_count": null,
   "id": "0124bb32-0aea-4597-a658-ab16ba3448be",
   "metadata": {},
   "outputs": [],
   "source": []
  },
  {
   "cell_type": "code",
   "execution_count": null,
   "id": "241286fe-8ae4-47cd-9c5f-c005178f4721",
   "metadata": {},
   "outputs": [],
   "source": []
  }
 ],
 "metadata": {
  "kernelspec": {
   "display_name": "Python 3 (ipykernel)",
   "language": "python",
   "name": "python3"
  },
  "language_info": {
   "codemirror_mode": {
    "name": "ipython",
    "version": 3
   },
   "file_extension": ".py",
   "mimetype": "text/x-python",
   "name": "python",
   "nbconvert_exporter": "python",
   "pygments_lexer": "ipython3",
   "version": "3.11.4"
  }
 },
 "nbformat": 4,
 "nbformat_minor": 5
}
